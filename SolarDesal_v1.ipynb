{
 "cells": [
  {
   "cell_type": "code",
   "execution_count": 1,
   "metadata": {},
   "outputs": [],
   "source": [
    "import pandas as pd"
   ]
  },
  {
   "cell_type": "code",
   "execution_count": 2,
   "metadata": {},
   "outputs": [
    {
     "name": "stderr",
     "output_type": "stream",
     "text": [
      "/anaconda3/lib/python3.6/site-packages/IPython/core/interactiveshell.py:2785: DtypeWarning: Columns (24,33,43,45,47,56,58,60,62,76,81,83,85,91,92,94,96,102,107,112,119,123,124,125,126,129,130,131,134,135,136,139,140,141,149,155,156,170) have mixed types. Specify dtype option on import or set low_memory=False.\n",
      "  interactivity=interactivity, compiler=compiler, result=result)\n"
     ]
    }
   ],
   "source": [
    "df = pd.read_csv(\"DesalData-2018-10-05.csv\", encoding = \"ISO-8859-1\")"
   ]
  },
  {
   "cell_type": "code",
   "execution_count": 3,
   "metadata": {
    "scrolled": true
   },
   "outputs": [
    {
     "data": {
      "text/html": [
       "<div>\n",
       "<style scoped>\n",
       "    .dataframe tbody tr th:only-of-type {\n",
       "        vertical-align: middle;\n",
       "    }\n",
       "\n",
       "    .dataframe tbody tr th {\n",
       "        vertical-align: top;\n",
       "    }\n",
       "\n",
       "    .dataframe thead th {\n",
       "        text-align: right;\n",
       "    }\n",
       "</style>\n",
       "<table border=\"1\" class=\"dataframe\">\n",
       "  <thead>\n",
       "    <tr style=\"text-align: right;\">\n",
       "      <th></th>\n",
       "      <th>Capacity (MGD)</th>\n",
       "      <th>Capacity (MIGD)</th>\n",
       "      <th>Units</th>\n",
       "      <th>Unit size (m3/d)</th>\n",
       "      <th>Unit size (MGD)</th>\n",
       "      <th>Unit size (MIGD)</th>\n",
       "      <th>Award date</th>\n",
       "      <th>Online date</th>\n",
       "      <th>Plant supplier share</th>\n",
       "      <th>Plant supplier 2 share</th>\n",
       "      <th>...</th>\n",
       "      <th>Bid submitted5</th>\n",
       "      <th>Pre qualified4</th>\n",
       "      <th>Pre qualified5</th>\n",
       "      <th>Statement of qualification4</th>\n",
       "      <th>Statement of qualification5</th>\n",
       "      <th>MED Power Consumption</th>\n",
       "      <th>MED Gain Output Ratio</th>\n",
       "      <th>MSF Heat Recovery Stages</th>\n",
       "      <th>MSF Heat Rejection Stages</th>\n",
       "      <th>MSF Gain Output Ratio</th>\n",
       "    </tr>\n",
       "  </thead>\n",
       "  <tbody>\n",
       "    <tr>\n",
       "      <th>count</th>\n",
       "      <td>19271.000000</td>\n",
       "      <td>19271.000000</td>\n",
       "      <td>13952.000000</td>\n",
       "      <td>13924.000000</td>\n",
       "      <td>13924.000000</td>\n",
       "      <td>13924.000000</td>\n",
       "      <td>19078.000000</td>\n",
       "      <td>18822.000000</td>\n",
       "      <td>15446.000000</td>\n",
       "      <td>438.000000</td>\n",
       "      <td>...</td>\n",
       "      <td>0.0</td>\n",
       "      <td>0.0</td>\n",
       "      <td>0.0</td>\n",
       "      <td>0.0</td>\n",
       "      <td>0.0</td>\n",
       "      <td>10.000000</td>\n",
       "      <td>17.000000</td>\n",
       "      <td>27.000000</td>\n",
       "      <td>28.000000</td>\n",
       "      <td>51.000000</td>\n",
       "    </tr>\n",
       "    <tr>\n",
       "      <th>mean</th>\n",
       "      <td>1.735867</td>\n",
       "      <td>1.445231</td>\n",
       "      <td>1.822104</td>\n",
       "      <td>1823.889632</td>\n",
       "      <td>0.481966</td>\n",
       "      <td>0.401011</td>\n",
       "      <td>1997.748244</td>\n",
       "      <td>1998.227500</td>\n",
       "      <td>98.174902</td>\n",
       "      <td>50.018767</td>\n",
       "      <td>...</td>\n",
       "      <td>NaN</td>\n",
       "      <td>NaN</td>\n",
       "      <td>NaN</td>\n",
       "      <td>NaN</td>\n",
       "      <td>NaN</td>\n",
       "      <td>3.220000</td>\n",
       "      <td>8.797059</td>\n",
       "      <td>16.259259</td>\n",
       "      <td>2.750000</td>\n",
       "      <td>7.719216</td>\n",
       "    </tr>\n",
       "    <tr>\n",
       "      <th>std</th>\n",
       "      <td>8.243873</td>\n",
       "      <td>6.863911</td>\n",
       "      <td>7.309046</td>\n",
       "      <td>6052.168448</td>\n",
       "      <td>1.598976</td>\n",
       "      <td>1.331412</td>\n",
       "      <td>13.582555</td>\n",
       "      <td>13.342122</td>\n",
       "      <td>9.707846</td>\n",
       "      <td>12.818092</td>\n",
       "      <td>...</td>\n",
       "      <td>NaN</td>\n",
       "      <td>NaN</td>\n",
       "      <td>NaN</td>\n",
       "      <td>NaN</td>\n",
       "      <td>NaN</td>\n",
       "      <td>3.462514</td>\n",
       "      <td>2.388807</td>\n",
       "      <td>4.319834</td>\n",
       "      <td>0.440959</td>\n",
       "      <td>1.474850</td>\n",
       "    </tr>\n",
       "    <tr>\n",
       "      <th>min</th>\n",
       "      <td>0.000000</td>\n",
       "      <td>0.000000</td>\n",
       "      <td>1.000000</td>\n",
       "      <td>0.000000</td>\n",
       "      <td>0.000000</td>\n",
       "      <td>0.000000</td>\n",
       "      <td>1944.000000</td>\n",
       "      <td>1945.000000</td>\n",
       "      <td>0.000000</td>\n",
       "      <td>0.000000</td>\n",
       "      <td>...</td>\n",
       "      <td>NaN</td>\n",
       "      <td>NaN</td>\n",
       "      <td>NaN</td>\n",
       "      <td>NaN</td>\n",
       "      <td>NaN</td>\n",
       "      <td>0.950000</td>\n",
       "      <td>5.000000</td>\n",
       "      <td>6.000000</td>\n",
       "      <td>2.000000</td>\n",
       "      <td>3.020000</td>\n",
       "    </tr>\n",
       "    <tr>\n",
       "      <th>25%</th>\n",
       "      <td>0.070000</td>\n",
       "      <td>0.060000</td>\n",
       "      <td>1.000000</td>\n",
       "      <td>210.000000</td>\n",
       "      <td>0.060000</td>\n",
       "      <td>0.050000</td>\n",
       "      <td>1988.000000</td>\n",
       "      <td>1989.000000</td>\n",
       "      <td>100.000000</td>\n",
       "      <td>50.000000</td>\n",
       "      <td>...</td>\n",
       "      <td>NaN</td>\n",
       "      <td>NaN</td>\n",
       "      <td>NaN</td>\n",
       "      <td>NaN</td>\n",
       "      <td>NaN</td>\n",
       "      <td>1.300000</td>\n",
       "      <td>7.100000</td>\n",
       "      <td>13.000000</td>\n",
       "      <td>2.750000</td>\n",
       "      <td>7.000000</td>\n",
       "    </tr>\n",
       "    <tr>\n",
       "      <th>50%</th>\n",
       "      <td>0.190000</td>\n",
       "      <td>0.160000</td>\n",
       "      <td>1.000000</td>\n",
       "      <td>500.000000</td>\n",
       "      <td>0.130000</td>\n",
       "      <td>0.110000</td>\n",
       "      <td>2000.000000</td>\n",
       "      <td>2000.000000</td>\n",
       "      <td>100.000000</td>\n",
       "      <td>50.000000</td>\n",
       "      <td>...</td>\n",
       "      <td>NaN</td>\n",
       "      <td>NaN</td>\n",
       "      <td>NaN</td>\n",
       "      <td>NaN</td>\n",
       "      <td>NaN</td>\n",
       "      <td>1.350000</td>\n",
       "      <td>8.500000</td>\n",
       "      <td>17.000000</td>\n",
       "      <td>3.000000</td>\n",
       "      <td>8.000000</td>\n",
       "    </tr>\n",
       "    <tr>\n",
       "      <th>75%</th>\n",
       "      <td>0.700000</td>\n",
       "      <td>0.580000</td>\n",
       "      <td>2.000000</td>\n",
       "      <td>1363.000000</td>\n",
       "      <td>0.360000</td>\n",
       "      <td>0.300000</td>\n",
       "      <td>2009.000000</td>\n",
       "      <td>2009.000000</td>\n",
       "      <td>100.000000</td>\n",
       "      <td>50.000000</td>\n",
       "      <td>...</td>\n",
       "      <td>NaN</td>\n",
       "      <td>NaN</td>\n",
       "      <td>NaN</td>\n",
       "      <td>NaN</td>\n",
       "      <td>NaN</td>\n",
       "      <td>3.175000</td>\n",
       "      <td>11.000000</td>\n",
       "      <td>19.000000</td>\n",
       "      <td>3.000000</td>\n",
       "      <td>8.550000</td>\n",
       "    </tr>\n",
       "    <tr>\n",
       "      <th>max</th>\n",
       "      <td>240.210000</td>\n",
       "      <td>200.000000</td>\n",
       "      <td>600.000000</td>\n",
       "      <td>240000.000000</td>\n",
       "      <td>63.410000</td>\n",
       "      <td>52.790000</td>\n",
       "      <td>2025.000000</td>\n",
       "      <td>2025.000000</td>\n",
       "      <td>100.000000</td>\n",
       "      <td>100.000000</td>\n",
       "      <td>...</td>\n",
       "      <td>NaN</td>\n",
       "      <td>NaN</td>\n",
       "      <td>NaN</td>\n",
       "      <td>NaN</td>\n",
       "      <td>NaN</td>\n",
       "      <td>11.000000</td>\n",
       "      <td>13.000000</td>\n",
       "      <td>23.000000</td>\n",
       "      <td>3.000000</td>\n",
       "      <td>12.000000</td>\n",
       "    </tr>\n",
       "  </tbody>\n",
       "</table>\n",
       "<p>8 rows × 46 columns</p>\n",
       "</div>"
      ],
      "text/plain": [
       "       Capacity (MGD)  Capacity (MIGD)         Units  Unit size (m3/d)  \\\n",
       "count    19271.000000     19271.000000  13952.000000      13924.000000   \n",
       "mean         1.735867         1.445231      1.822104       1823.889632   \n",
       "std          8.243873         6.863911      7.309046       6052.168448   \n",
       "min          0.000000         0.000000      1.000000          0.000000   \n",
       "25%          0.070000         0.060000      1.000000        210.000000   \n",
       "50%          0.190000         0.160000      1.000000        500.000000   \n",
       "75%          0.700000         0.580000      2.000000       1363.000000   \n",
       "max        240.210000       200.000000    600.000000     240000.000000   \n",
       "\n",
       "       Unit size (MGD)  Unit size (MIGD)    Award date   Online date  \\\n",
       "count     13924.000000      13924.000000  19078.000000  18822.000000   \n",
       "mean          0.481966          0.401011   1997.748244   1998.227500   \n",
       "std           1.598976          1.331412     13.582555     13.342122   \n",
       "min           0.000000          0.000000   1944.000000   1945.000000   \n",
       "25%           0.060000          0.050000   1988.000000   1989.000000   \n",
       "50%           0.130000          0.110000   2000.000000   2000.000000   \n",
       "75%           0.360000          0.300000   2009.000000   2009.000000   \n",
       "max          63.410000         52.790000   2025.000000   2025.000000   \n",
       "\n",
       "       Plant supplier share  Plant supplier 2 share          ...            \\\n",
       "count          15446.000000              438.000000          ...             \n",
       "mean              98.174902               50.018767          ...             \n",
       "std                9.707846               12.818092          ...             \n",
       "min                0.000000                0.000000          ...             \n",
       "25%              100.000000               50.000000          ...             \n",
       "50%              100.000000               50.000000          ...             \n",
       "75%              100.000000               50.000000          ...             \n",
       "max              100.000000              100.000000          ...             \n",
       "\n",
       "       Bid submitted5  Pre qualified4  Pre qualified5  \\\n",
       "count             0.0             0.0             0.0   \n",
       "mean              NaN             NaN             NaN   \n",
       "std               NaN             NaN             NaN   \n",
       "min               NaN             NaN             NaN   \n",
       "25%               NaN             NaN             NaN   \n",
       "50%               NaN             NaN             NaN   \n",
       "75%               NaN             NaN             NaN   \n",
       "max               NaN             NaN             NaN   \n",
       "\n",
       "       Statement of qualification4  Statement of qualification5  \\\n",
       "count                          0.0                          0.0   \n",
       "mean                           NaN                          NaN   \n",
       "std                            NaN                          NaN   \n",
       "min                            NaN                          NaN   \n",
       "25%                            NaN                          NaN   \n",
       "50%                            NaN                          NaN   \n",
       "75%                            NaN                          NaN   \n",
       "max                            NaN                          NaN   \n",
       "\n",
       "       MED Power Consumption  MED Gain Output Ratio  MSF Heat Recovery Stages  \\\n",
       "count              10.000000              17.000000                 27.000000   \n",
       "mean                3.220000               8.797059                 16.259259   \n",
       "std                 3.462514               2.388807                  4.319834   \n",
       "min                 0.950000               5.000000                  6.000000   \n",
       "25%                 1.300000               7.100000                 13.000000   \n",
       "50%                 1.350000               8.500000                 17.000000   \n",
       "75%                 3.175000              11.000000                 19.000000   \n",
       "max                11.000000              13.000000                 23.000000   \n",
       "\n",
       "       MSF Heat Rejection Stages  MSF Gain Output Ratio  \n",
       "count                  28.000000              51.000000  \n",
       "mean                    2.750000               7.719216  \n",
       "std                     0.440959               1.474850  \n",
       "min                     2.000000               3.020000  \n",
       "25%                     2.750000               7.000000  \n",
       "50%                     3.000000               8.000000  \n",
       "75%                     3.000000               8.550000  \n",
       "max                     3.000000              12.000000  \n",
       "\n",
       "[8 rows x 46 columns]"
      ]
     },
     "execution_count": 3,
     "metadata": {},
     "output_type": "execute_result"
    }
   ],
   "source": [
    "df.describe()"
   ]
  },
  {
   "cell_type": "code",
   "execution_count": 19,
   "metadata": {},
   "outputs": [
    {
     "data": {
      "text/plain": [
       "(824, 177)"
      ]
     },
     "execution_count": 19,
     "metadata": {},
     "output_type": "execute_result"
    }
   ],
   "source": [
    "df[~df[\"ERD supplier\"].isnull()].shape"
   ]
  },
  {
   "cell_type": "code",
   "execution_count": 6,
   "metadata": {},
   "outputs": [
    {
     "name": "stdout",
     "output_type": "stream",
     "text": [
      "<class 'pandas.core.frame.DataFrame'>\n",
      "RangeIndex: 19329 entries, 0 to 19328\n",
      "Columns: 177 entries, Country to MSF Gain Output Ratio\n",
      "dtypes: float64(46), object(131)\n",
      "memory usage: 26.1+ MB\n"
     ]
    }
   ],
   "source": [
    "df.info()"
   ]
  },
  {
   "cell_type": "code",
   "execution_count": 9,
   "metadata": {},
   "outputs": [
    {
     "name": "stdout",
     "output_type": "stream",
     "text": [
      "Country\n",
      "Region\n",
      "Subregion\n",
      "Location\n",
      "State/Region\n",
      "Location type\n",
      "Project name\n",
      "Capacity (m3/d)\n",
      "Size\n",
      "Capacity (MGD)\n",
      "Capacity (MIGD)\n",
      "Units\n",
      "Unit size (m3/d)\n",
      "Unit size (MGD)\n",
      "Unit size (MIGD)\n",
      "Technical notes\n",
      "Technology\n",
      "Thermal design\n",
      "Thermal equipment\n",
      "Membrane supplier (RO)\n",
      "Membrane type (RO)\n",
      "ERD supplier\n",
      "ERD type\n",
      "DAF pretreatment supplier\n",
      "DAF brand\n",
      "MF/UF Pretreatment Supplier\n",
      "MF/UF brand\n",
      "Other pretreatment\n",
      "Feedwater\n",
      "Award date\n",
      "Online date\n",
      "Consultant\n",
      "Consultant 2\n",
      "Consultant 3\n",
      "Customer type\n",
      "Industry\n",
      "Customer\n",
      "Plant status\n",
      "Plant type\n",
      "Plant supplier\n",
      "Plant supplier share\n",
      "Plant supplier 2\n",
      "Plant supplier 2 share\n",
      "Plant supplier 3\n",
      "Plant supplier 3 share\n",
      "Plant supplier 4\n",
      "Plant supplier 4 share\n",
      "Plant supplier 5\n",
      "Plant supplier 5 share\n",
      "Procurement model\n",
      "Concession period\n",
      "Dev consortium\n",
      "Developer\n",
      "Dev share\n",
      "Developer 2\n",
      "Dev2 share\n",
      "Developer 3\n",
      "Dev3 share\n",
      "Developer 4\n",
      "Dev4 share\n",
      "Developer 5\n",
      "Dev5 share\n",
      "Developer 6\n",
      "Dev6 share\n",
      "EPC price\n",
      "Water price (USD/m3)\n",
      "Last update\n",
      "Latitude\n",
      "Longitude\n",
      "Contact\n",
      "Feedwater Ph\n",
      "Feedwater salinity\n",
      "Feedwater temp minimum\n",
      "Feedwater temp maximum\n",
      "Product water salinity\n",
      "Product water temp\n",
      "Civil contractor (off-shore)\n",
      "Civil contractor (on-shore)\n",
      "Consultant.1\n",
      "Developer/co-developer\n",
      "Engineering Consultancy\n",
      "Environmental advisor\n",
      "EPC contractor (desal)\n",
      "EPC contractor (pipeline)\n",
      "EPC contractor (power)\n",
      "EPCM contractor\n",
      "Equipment Supplier : Desal (unspecified)\n",
      "Equipment supplier : Membranes (Not specified / Other)\n",
      "Equipment Supplier: Chemical Feed System\n",
      "Equipment supplier: DAF pretreatment system\n",
      "Equipment Supplier: Energy Recovery Device\n",
      "Equipment Supplier: Glass Reinforced Polyester Pipes and Fittings\n",
      "Equipment Supplier: High Pressure Pipe Materials\n",
      "Equipment Supplier: Low Pressure Pipe Materials\n",
      "Equipment Supplier: Membranes ( NF )\n",
      "Equipment Supplier: Membranes ( UF )\n",
      "Equipment Supplier: Motors\n",
      "Equipment Supplier: Pipes (unspecified)\n",
      "Equipment Supplier: Pressure vessels\n",
      "Equipment Supplier: Pretreatment system \n",
      "Equipment Supplier: Pumps: Brine circulation (concentrate disposal)\n",
      "Equipment Supplier: Pumps: Brine circulation (recirculation - MSF only)\n",
      "Equipment Supplier: Pumps: High pressure\n",
      "Equipment Supplier: Pumps: Not specified/other \n",
      "Equipment Supplier: Steel\n",
      "Equipment Supplier: Valves\n",
      "Financial advisor\n",
      "Government agency\n",
      "Holding Company\n",
      "Insurance adviser\n",
      "Legal advisor\n",
      "Lender\n",
      "Lender engineer\n",
      "O&M contractor\n",
      "Off-taker\n",
      "Owner - Client\n",
      "Owners engineer\n",
      "Prime contractor\n",
      "Project Company\n",
      "Sponsor\n",
      "Subcontractor\n",
      "Technical advisor\n",
      "Technology provider\n",
      "Winner\n",
      "Short listed1\n",
      "Short listed2\n",
      "Short listed3\n",
      "Short listed4\n",
      "Short listed5\n",
      "Bid submitted1\n",
      "Bid submitted2\n",
      "Bid submitted3\n",
      "Bid submitted4\n",
      "Bid submitted5\n",
      "Pre qualified1\n",
      "Pre qualified2\n",
      "Pre qualified3\n",
      "Pre qualified4\n",
      "Pre qualified5\n",
      "Statement of qualification1\n",
      "Statement of qualification2\n",
      "Statement of qualification3\n",
      "Statement of qualification4\n",
      "Statement of qualification5\n",
      "RO System\n",
      "RO Configuration\n",
      "RO Feed Pump Drive\n",
      "RO Control Type\n",
      "RO Energy Recovery\n",
      "RO Electrical Power Consumption\n",
      "RO Membrane Type\n",
      "RO Pre Treament 1st Stage\n",
      "RO NPS Or MWCO\n",
      "RO Pre Treament 2nd Stage\n",
      "RO Pre Treament 3rd Stage\n",
      "RO Pre Treament 4th Stage\n",
      "RO Pre Treament 5th Stage\n",
      "RO Passivation\n",
      "RO Disinfection\n",
      "RO Dosed Chemical 1st Stage\n",
      "MED Design\n",
      "MED System\n",
      "MED Equipment\n",
      "MED Type\n",
      "MED Geometry\n",
      "MED Configuration\n",
      "MED Power Consumption\n",
      "MED Gain Output Ratio\n",
      "MSF Design\n",
      "MSF System\n",
      "MSF Equipment\n",
      "MSF Type\n",
      "MSF Geometry\n",
      "MSF Configuration\n",
      "MSF Heat Recovery Stages\n",
      "MSF Heat Rejection Stages\n",
      "MSF Gain Output Ratio\n"
     ]
    }
   ],
   "source": [
    "for i in df.columns:\n",
    "    print(i)"
   ]
  },
  {
   "cell_type": "code",
   "execution_count": 69,
   "metadata": {},
   "outputs": [
    {
     "data": {
      "text/plain": [
       "443000000.0"
      ]
     },
     "execution_count": 69,
     "metadata": {},
     "output_type": "execute_result"
    }
   ],
   "source": [
    "df[\"EPC price\"][6]"
   ]
  },
  {
   "cell_type": "code",
   "execution_count": 161,
   "metadata": {},
   "outputs": [],
   "source": [
    "df[\"EPC price\"] = df[\"EPC price\"].apply(lambda x: str(x).replace(\" SGD\",\"\").replace(\" TWD\",\"\")\n",
    "                                        .replace(\" USD\",\"\").replace(\" EUR\",\"\").replace(\" OMR\",\"\").replace(\",\",\"\"))"
   ]
  },
  {
   "cell_type": "code",
   "execution_count": 182,
   "metadata": {
    "scrolled": true
   },
   "outputs": [
    {
     "ename": "ValueError",
     "evalue": "could not convert string to float: '443000000 USD'",
     "output_type": "error",
     "traceback": [
      "\u001b[0;31m---------------------------------------------------------------------------\u001b[0m",
      "\u001b[0;31mValueError\u001b[0m                                Traceback (most recent call last)",
      "\u001b[0;32m<ipython-input-182-e3042d8ec393>\u001b[0m in \u001b[0;36m<module>\u001b[0;34m()\u001b[0m\n\u001b[0;32m----> 1\u001b[0;31m \u001b[0mdf\u001b[0m\u001b[0;34m[\u001b[0m\u001b[0;34m\"EPC price\"\u001b[0m\u001b[0;34m]\u001b[0m \u001b[0;34m=\u001b[0m \u001b[0mdf\u001b[0m\u001b[0;34m[\u001b[0m\u001b[0;34m\"EPC price\"\u001b[0m\u001b[0;34m]\u001b[0m\u001b[0;34m.\u001b[0m\u001b[0mapply\u001b[0m\u001b[0;34m(\u001b[0m\u001b[0;32mlambda\u001b[0m \u001b[0mx\u001b[0m\u001b[0;34m:\u001b[0m \u001b[0mx\u001b[0m \u001b[0;32mif\u001b[0m \u001b[0mfloat\u001b[0m\u001b[0;34m(\u001b[0m\u001b[0mstr\u001b[0m\u001b[0;34m(\u001b[0m\u001b[0mx\u001b[0m\u001b[0;34m)\u001b[0m\u001b[0;34m.\u001b[0m\u001b[0mreplace\u001b[0m\u001b[0;34m(\u001b[0m\u001b[0;34m\",\"\u001b[0m\u001b[0;34m,\u001b[0m\u001b[0;34m\"\"\u001b[0m\u001b[0;34m)\u001b[0m\u001b[0;34m)\u001b[0m \u001b[0;32melse\u001b[0m \u001b[0mstr\u001b[0m\u001b[0;34m(\u001b[0m\u001b[0mstr\u001b[0m\u001b[0;34m(\u001b[0m\u001b[0mx\u001b[0m\u001b[0;34m)\u001b[0m\u001b[0;34m.\u001b[0m\u001b[0mreplace\u001b[0m\u001b[0;34m(\u001b[0m\u001b[0;34m\",\"\u001b[0m\u001b[0;34m,\u001b[0m\u001b[0;34m\"\"\u001b[0m\u001b[0;34m)\u001b[0m\u001b[0;34m)\u001b[0m\u001b[0;34m.\u001b[0m\u001b[0msplit\u001b[0m\u001b[0;34m(\u001b[0m\u001b[0;34m\" \"\u001b[0m\u001b[0;34m)\u001b[0m\u001b[0;34m[\u001b[0m\u001b[0;36m0\u001b[0m\u001b[0;34m]\u001b[0m\u001b[0;34m)\u001b[0m\u001b[0;34m\u001b[0m\u001b[0m\n\u001b[0m",
      "\u001b[0;32m/anaconda3/lib/python3.6/site-packages/pandas/core/series.py\u001b[0m in \u001b[0;36mapply\u001b[0;34m(self, func, convert_dtype, args, **kwds)\u001b[0m\n\u001b[1;32m   3192\u001b[0m             \u001b[0;32melse\u001b[0m\u001b[0;34m:\u001b[0m\u001b[0;34m\u001b[0m\u001b[0m\n\u001b[1;32m   3193\u001b[0m                 \u001b[0mvalues\u001b[0m \u001b[0;34m=\u001b[0m \u001b[0mself\u001b[0m\u001b[0;34m.\u001b[0m\u001b[0mastype\u001b[0m\u001b[0;34m(\u001b[0m\u001b[0mobject\u001b[0m\u001b[0;34m)\u001b[0m\u001b[0;34m.\u001b[0m\u001b[0mvalues\u001b[0m\u001b[0;34m\u001b[0m\u001b[0m\n\u001b[0;32m-> 3194\u001b[0;31m                 \u001b[0mmapped\u001b[0m \u001b[0;34m=\u001b[0m \u001b[0mlib\u001b[0m\u001b[0;34m.\u001b[0m\u001b[0mmap_infer\u001b[0m\u001b[0;34m(\u001b[0m\u001b[0mvalues\u001b[0m\u001b[0;34m,\u001b[0m \u001b[0mf\u001b[0m\u001b[0;34m,\u001b[0m \u001b[0mconvert\u001b[0m\u001b[0;34m=\u001b[0m\u001b[0mconvert_dtype\u001b[0m\u001b[0;34m)\u001b[0m\u001b[0;34m\u001b[0m\u001b[0m\n\u001b[0m\u001b[1;32m   3195\u001b[0m \u001b[0;34m\u001b[0m\u001b[0m\n\u001b[1;32m   3196\u001b[0m         \u001b[0;32mif\u001b[0m \u001b[0mlen\u001b[0m\u001b[0;34m(\u001b[0m\u001b[0mmapped\u001b[0m\u001b[0;34m)\u001b[0m \u001b[0;32mand\u001b[0m \u001b[0misinstance\u001b[0m\u001b[0;34m(\u001b[0m\u001b[0mmapped\u001b[0m\u001b[0;34m[\u001b[0m\u001b[0;36m0\u001b[0m\u001b[0;34m]\u001b[0m\u001b[0;34m,\u001b[0m \u001b[0mSeries\u001b[0m\u001b[0;34m)\u001b[0m\u001b[0;34m:\u001b[0m\u001b[0;34m\u001b[0m\u001b[0m\n",
      "\u001b[0;32mpandas/_libs/src/inference.pyx\u001b[0m in \u001b[0;36mpandas._libs.lib.map_infer\u001b[0;34m()\u001b[0m\n",
      "\u001b[0;32m<ipython-input-182-e3042d8ec393>\u001b[0m in \u001b[0;36m<lambda>\u001b[0;34m(x)\u001b[0m\n\u001b[0;32m----> 1\u001b[0;31m \u001b[0mdf\u001b[0m\u001b[0;34m[\u001b[0m\u001b[0;34m\"EPC price\"\u001b[0m\u001b[0;34m]\u001b[0m \u001b[0;34m=\u001b[0m \u001b[0mdf\u001b[0m\u001b[0;34m[\u001b[0m\u001b[0;34m\"EPC price\"\u001b[0m\u001b[0;34m]\u001b[0m\u001b[0;34m.\u001b[0m\u001b[0mapply\u001b[0m\u001b[0;34m(\u001b[0m\u001b[0;32mlambda\u001b[0m \u001b[0mx\u001b[0m\u001b[0;34m:\u001b[0m \u001b[0mx\u001b[0m \u001b[0;32mif\u001b[0m \u001b[0mfloat\u001b[0m\u001b[0;34m(\u001b[0m\u001b[0mstr\u001b[0m\u001b[0;34m(\u001b[0m\u001b[0mx\u001b[0m\u001b[0;34m)\u001b[0m\u001b[0;34m.\u001b[0m\u001b[0mreplace\u001b[0m\u001b[0;34m(\u001b[0m\u001b[0;34m\",\"\u001b[0m\u001b[0;34m,\u001b[0m\u001b[0;34m\"\"\u001b[0m\u001b[0;34m)\u001b[0m\u001b[0;34m)\u001b[0m \u001b[0;32melse\u001b[0m \u001b[0mstr\u001b[0m\u001b[0;34m(\u001b[0m\u001b[0mstr\u001b[0m\u001b[0;34m(\u001b[0m\u001b[0mx\u001b[0m\u001b[0;34m)\u001b[0m\u001b[0;34m.\u001b[0m\u001b[0mreplace\u001b[0m\u001b[0;34m(\u001b[0m\u001b[0;34m\",\"\u001b[0m\u001b[0;34m,\u001b[0m\u001b[0;34m\"\"\u001b[0m\u001b[0;34m)\u001b[0m\u001b[0;34m)\u001b[0m\u001b[0;34m.\u001b[0m\u001b[0msplit\u001b[0m\u001b[0;34m(\u001b[0m\u001b[0;34m\" \"\u001b[0m\u001b[0;34m)\u001b[0m\u001b[0;34m[\u001b[0m\u001b[0;36m0\u001b[0m\u001b[0;34m]\u001b[0m\u001b[0;34m)\u001b[0m\u001b[0;34m\u001b[0m\u001b[0m\n\u001b[0m",
      "\u001b[0;31mValueError\u001b[0m: could not convert string to float: '443000000 USD'"
     ]
    }
   ],
   "source": [
    "df[\"EPC price\"] = df[\"EPC price\"].apply(lambda x: x if x.replace(\",\"\") \n",
    "                                                                 else str(str(x).replace(\",\",\"\")).split(\" \")[0])"
   ]
  },
  {
   "cell_type": "code",
   "execution_count": 192,
   "metadata": {},
   "outputs": [],
   "source": [
    "df[\"EPC price\"] = df[\"EPC price\"].apply(convert)"
   ]
  },
  {
   "cell_type": "code",
   "execution_count": 191,
   "metadata": {},
   "outputs": [],
   "source": [
    "def convert(v):\n",
    "    x = str(v).replace(\",\",\"\")\n",
    "    if \" \" in x:\n",
    "        return float(str(x).split(\" \")[0])\n",
    "    else:\n",
    "        float(x)"
   ]
  },
  {
   "cell_type": "code",
   "execution_count": 185,
   "metadata": {},
   "outputs": [
    {
     "ename": "ValueError",
     "evalue": "could not convert string to float: '566327 USD'",
     "output_type": "error",
     "traceback": [
      "\u001b[0;31m---------------------------------------------------------------------------\u001b[0m",
      "\u001b[0;31mValueError\u001b[0m                                Traceback (most recent call last)",
      "\u001b[0;32m<ipython-input-185-7a360cb9411f>\u001b[0m in \u001b[0;36m<module>\u001b[0;34m()\u001b[0m\n\u001b[0;32m----> 1\u001b[0;31m \u001b[0;32mif\u001b[0m \u001b[0mfloat\u001b[0m\u001b[0;34m(\u001b[0m\u001b[0mstr\u001b[0m\u001b[0;34m(\u001b[0m\u001b[0mx\u001b[0m\u001b[0;34m)\u001b[0m\u001b[0;34m.\u001b[0m\u001b[0mreplace\u001b[0m\u001b[0;34m(\u001b[0m\u001b[0;34m\",\"\u001b[0m\u001b[0;34m,\u001b[0m\u001b[0;34m\"\"\u001b[0m\u001b[0;34m)\u001b[0m\u001b[0;34m)\u001b[0m\u001b[0;34m:\u001b[0m\u001b[0;34m\u001b[0m\u001b[0m\n\u001b[0m\u001b[1;32m      2\u001b[0m     \u001b[0mprint\u001b[0m\u001b[0;34m(\u001b[0m\u001b[0;34m\"not ok\"\u001b[0m\u001b[0;34m)\u001b[0m\u001b[0;34m\u001b[0m\u001b[0m\n",
      "\u001b[0;31mValueError\u001b[0m: could not convert string to float: '566327 USD'"
     ]
    }
   ],
   "source": [
    "if float(str(x).replace(\",\",\"\")):\n",
    "    "
   ]
  },
  {
   "cell_type": "code",
   "execution_count": 171,
   "metadata": {},
   "outputs": [
    {
     "data": {
      "text/plain": [
       "'566327'"
      ]
     },
     "execution_count": 171,
     "metadata": {},
     "output_type": "execute_result"
    }
   ],
   "source": [
    "x.split(\" \")[0]"
   ]
  },
  {
   "cell_type": "code",
   "execution_count": 70,
   "metadata": {
    "scrolled": true
   },
   "outputs": [
    {
     "ename": "ValueError",
     "evalue": "Cannot convert non-finite values (NA or inf) to integer",
     "output_type": "error",
     "traceback": [
      "\u001b[0;31m---------------------------------------------------------------------------\u001b[0m",
      "\u001b[0;31mValueError\u001b[0m                                Traceback (most recent call last)",
      "\u001b[0;32m<ipython-input-70-a25e45243bf3>\u001b[0m in \u001b[0;36m<module>\u001b[0;34m()\u001b[0m\n\u001b[0;32m----> 1\u001b[0;31m \u001b[0mdf\u001b[0m\u001b[0;34m[\u001b[0m\u001b[0;34m\"EPC price\"\u001b[0m\u001b[0;34m]\u001b[0m \u001b[0;34m=\u001b[0m \u001b[0mdf\u001b[0m\u001b[0;34m[\u001b[0m\u001b[0;34m\"EPC price\"\u001b[0m\u001b[0;34m]\u001b[0m\u001b[0;34m.\u001b[0m\u001b[0mastype\u001b[0m\u001b[0;34m(\u001b[0m\u001b[0mint\u001b[0m\u001b[0;34m)\u001b[0m\u001b[0;34m\u001b[0m\u001b[0m\n\u001b[0m",
      "\u001b[0;32m/anaconda3/lib/python3.6/site-packages/pandas/util/_decorators.py\u001b[0m in \u001b[0;36mwrapper\u001b[0;34m(*args, **kwargs)\u001b[0m\n\u001b[1;32m    176\u001b[0m                 \u001b[0;32melse\u001b[0m\u001b[0;34m:\u001b[0m\u001b[0;34m\u001b[0m\u001b[0m\n\u001b[1;32m    177\u001b[0m                     \u001b[0mkwargs\u001b[0m\u001b[0;34m[\u001b[0m\u001b[0mnew_arg_name\u001b[0m\u001b[0;34m]\u001b[0m \u001b[0;34m=\u001b[0m \u001b[0mnew_arg_value\u001b[0m\u001b[0;34m\u001b[0m\u001b[0m\n\u001b[0;32m--> 178\u001b[0;31m             \u001b[0;32mreturn\u001b[0m \u001b[0mfunc\u001b[0m\u001b[0;34m(\u001b[0m\u001b[0;34m*\u001b[0m\u001b[0margs\u001b[0m\u001b[0;34m,\u001b[0m \u001b[0;34m**\u001b[0m\u001b[0mkwargs\u001b[0m\u001b[0;34m)\u001b[0m\u001b[0;34m\u001b[0m\u001b[0m\n\u001b[0m\u001b[1;32m    179\u001b[0m         \u001b[0;32mreturn\u001b[0m \u001b[0mwrapper\u001b[0m\u001b[0;34m\u001b[0m\u001b[0m\n\u001b[1;32m    180\u001b[0m     \u001b[0;32mreturn\u001b[0m \u001b[0m_deprecate_kwarg\u001b[0m\u001b[0;34m\u001b[0m\u001b[0m\n",
      "\u001b[0;32m/anaconda3/lib/python3.6/site-packages/pandas/core/generic.py\u001b[0m in \u001b[0;36mastype\u001b[0;34m(self, dtype, copy, errors, **kwargs)\u001b[0m\n\u001b[1;32m   4999\u001b[0m             \u001b[0;31m# else, only a single dtype is given\u001b[0m\u001b[0;34m\u001b[0m\u001b[0;34m\u001b[0m\u001b[0m\n\u001b[1;32m   5000\u001b[0m             new_data = self._data.astype(dtype=dtype, copy=copy, errors=errors,\n\u001b[0;32m-> 5001\u001b[0;31m                                          **kwargs)\n\u001b[0m\u001b[1;32m   5002\u001b[0m             \u001b[0;32mreturn\u001b[0m \u001b[0mself\u001b[0m\u001b[0;34m.\u001b[0m\u001b[0m_constructor\u001b[0m\u001b[0;34m(\u001b[0m\u001b[0mnew_data\u001b[0m\u001b[0;34m)\u001b[0m\u001b[0;34m.\u001b[0m\u001b[0m__finalize__\u001b[0m\u001b[0;34m(\u001b[0m\u001b[0mself\u001b[0m\u001b[0;34m)\u001b[0m\u001b[0;34m\u001b[0m\u001b[0m\n\u001b[1;32m   5003\u001b[0m \u001b[0;34m\u001b[0m\u001b[0m\n",
      "\u001b[0;32m/anaconda3/lib/python3.6/site-packages/pandas/core/internals.py\u001b[0m in \u001b[0;36mastype\u001b[0;34m(self, dtype, **kwargs)\u001b[0m\n\u001b[1;32m   3712\u001b[0m \u001b[0;34m\u001b[0m\u001b[0m\n\u001b[1;32m   3713\u001b[0m     \u001b[0;32mdef\u001b[0m \u001b[0mastype\u001b[0m\u001b[0;34m(\u001b[0m\u001b[0mself\u001b[0m\u001b[0;34m,\u001b[0m \u001b[0mdtype\u001b[0m\u001b[0;34m,\u001b[0m \u001b[0;34m**\u001b[0m\u001b[0mkwargs\u001b[0m\u001b[0;34m)\u001b[0m\u001b[0;34m:\u001b[0m\u001b[0;34m\u001b[0m\u001b[0m\n\u001b[0;32m-> 3714\u001b[0;31m         \u001b[0;32mreturn\u001b[0m \u001b[0mself\u001b[0m\u001b[0;34m.\u001b[0m\u001b[0mapply\u001b[0m\u001b[0;34m(\u001b[0m\u001b[0;34m'astype'\u001b[0m\u001b[0;34m,\u001b[0m \u001b[0mdtype\u001b[0m\u001b[0;34m=\u001b[0m\u001b[0mdtype\u001b[0m\u001b[0;34m,\u001b[0m \u001b[0;34m**\u001b[0m\u001b[0mkwargs\u001b[0m\u001b[0;34m)\u001b[0m\u001b[0;34m\u001b[0m\u001b[0m\n\u001b[0m\u001b[1;32m   3715\u001b[0m \u001b[0;34m\u001b[0m\u001b[0m\n\u001b[1;32m   3716\u001b[0m     \u001b[0;32mdef\u001b[0m \u001b[0mconvert\u001b[0m\u001b[0;34m(\u001b[0m\u001b[0mself\u001b[0m\u001b[0;34m,\u001b[0m \u001b[0;34m**\u001b[0m\u001b[0mkwargs\u001b[0m\u001b[0;34m)\u001b[0m\u001b[0;34m:\u001b[0m\u001b[0;34m\u001b[0m\u001b[0m\n",
      "\u001b[0;32m/anaconda3/lib/python3.6/site-packages/pandas/core/internals.py\u001b[0m in \u001b[0;36mapply\u001b[0;34m(self, f, axes, filter, do_integrity_check, consolidate, **kwargs)\u001b[0m\n\u001b[1;32m   3579\u001b[0m \u001b[0;34m\u001b[0m\u001b[0m\n\u001b[1;32m   3580\u001b[0m             \u001b[0mkwargs\u001b[0m\u001b[0;34m[\u001b[0m\u001b[0;34m'mgr'\u001b[0m\u001b[0;34m]\u001b[0m \u001b[0;34m=\u001b[0m \u001b[0mself\u001b[0m\u001b[0;34m\u001b[0m\u001b[0m\n\u001b[0;32m-> 3581\u001b[0;31m             \u001b[0mapplied\u001b[0m \u001b[0;34m=\u001b[0m \u001b[0mgetattr\u001b[0m\u001b[0;34m(\u001b[0m\u001b[0mb\u001b[0m\u001b[0;34m,\u001b[0m \u001b[0mf\u001b[0m\u001b[0;34m)\u001b[0m\u001b[0;34m(\u001b[0m\u001b[0;34m**\u001b[0m\u001b[0mkwargs\u001b[0m\u001b[0;34m)\u001b[0m\u001b[0;34m\u001b[0m\u001b[0m\n\u001b[0m\u001b[1;32m   3582\u001b[0m             \u001b[0mresult_blocks\u001b[0m \u001b[0;34m=\u001b[0m \u001b[0m_extend_blocks\u001b[0m\u001b[0;34m(\u001b[0m\u001b[0mapplied\u001b[0m\u001b[0;34m,\u001b[0m \u001b[0mresult_blocks\u001b[0m\u001b[0;34m)\u001b[0m\u001b[0;34m\u001b[0m\u001b[0m\n\u001b[1;32m   3583\u001b[0m \u001b[0;34m\u001b[0m\u001b[0m\n",
      "\u001b[0;32m/anaconda3/lib/python3.6/site-packages/pandas/core/internals.py\u001b[0m in \u001b[0;36mastype\u001b[0;34m(self, dtype, copy, errors, values, **kwargs)\u001b[0m\n\u001b[1;32m    573\u001b[0m     \u001b[0;32mdef\u001b[0m \u001b[0mastype\u001b[0m\u001b[0;34m(\u001b[0m\u001b[0mself\u001b[0m\u001b[0;34m,\u001b[0m \u001b[0mdtype\u001b[0m\u001b[0;34m,\u001b[0m \u001b[0mcopy\u001b[0m\u001b[0;34m=\u001b[0m\u001b[0;32mFalse\u001b[0m\u001b[0;34m,\u001b[0m \u001b[0merrors\u001b[0m\u001b[0;34m=\u001b[0m\u001b[0;34m'raise'\u001b[0m\u001b[0;34m,\u001b[0m \u001b[0mvalues\u001b[0m\u001b[0;34m=\u001b[0m\u001b[0;32mNone\u001b[0m\u001b[0;34m,\u001b[0m \u001b[0;34m**\u001b[0m\u001b[0mkwargs\u001b[0m\u001b[0;34m)\u001b[0m\u001b[0;34m:\u001b[0m\u001b[0;34m\u001b[0m\u001b[0m\n\u001b[1;32m    574\u001b[0m         return self._astype(dtype, copy=copy, errors=errors, values=values,\n\u001b[0;32m--> 575\u001b[0;31m                             **kwargs)\n\u001b[0m\u001b[1;32m    576\u001b[0m \u001b[0;34m\u001b[0m\u001b[0m\n\u001b[1;32m    577\u001b[0m     def _astype(self, dtype, copy=False, errors='raise', values=None,\n",
      "\u001b[0;32m/anaconda3/lib/python3.6/site-packages/pandas/core/internals.py\u001b[0m in \u001b[0;36m_astype\u001b[0;34m(self, dtype, copy, errors, values, klass, mgr, **kwargs)\u001b[0m\n\u001b[1;32m    662\u001b[0m \u001b[0;34m\u001b[0m\u001b[0m\n\u001b[1;32m    663\u001b[0m                 \u001b[0;31m# _astype_nansafe works fine with 1-d only\u001b[0m\u001b[0;34m\u001b[0m\u001b[0;34m\u001b[0m\u001b[0m\n\u001b[0;32m--> 664\u001b[0;31m                 \u001b[0mvalues\u001b[0m \u001b[0;34m=\u001b[0m \u001b[0mastype_nansafe\u001b[0m\u001b[0;34m(\u001b[0m\u001b[0mvalues\u001b[0m\u001b[0;34m.\u001b[0m\u001b[0mravel\u001b[0m\u001b[0;34m(\u001b[0m\u001b[0;34m)\u001b[0m\u001b[0;34m,\u001b[0m \u001b[0mdtype\u001b[0m\u001b[0;34m,\u001b[0m \u001b[0mcopy\u001b[0m\u001b[0;34m=\u001b[0m\u001b[0;32mTrue\u001b[0m\u001b[0;34m)\u001b[0m\u001b[0;34m\u001b[0m\u001b[0m\n\u001b[0m\u001b[1;32m    665\u001b[0m                 \u001b[0mvalues\u001b[0m \u001b[0;34m=\u001b[0m \u001b[0mvalues\u001b[0m\u001b[0;34m.\u001b[0m\u001b[0mreshape\u001b[0m\u001b[0;34m(\u001b[0m\u001b[0mself\u001b[0m\u001b[0;34m.\u001b[0m\u001b[0mshape\u001b[0m\u001b[0;34m)\u001b[0m\u001b[0;34m\u001b[0m\u001b[0m\n\u001b[1;32m    666\u001b[0m \u001b[0;34m\u001b[0m\u001b[0m\n",
      "\u001b[0;32m/anaconda3/lib/python3.6/site-packages/pandas/core/dtypes/cast.py\u001b[0m in \u001b[0;36mastype_nansafe\u001b[0;34m(arr, dtype, copy)\u001b[0m\n\u001b[1;32m    700\u001b[0m \u001b[0;34m\u001b[0m\u001b[0m\n\u001b[1;32m    701\u001b[0m         \u001b[0;32mif\u001b[0m \u001b[0;32mnot\u001b[0m \u001b[0mnp\u001b[0m\u001b[0;34m.\u001b[0m\u001b[0misfinite\u001b[0m\u001b[0;34m(\u001b[0m\u001b[0marr\u001b[0m\u001b[0;34m)\u001b[0m\u001b[0;34m.\u001b[0m\u001b[0mall\u001b[0m\u001b[0;34m(\u001b[0m\u001b[0;34m)\u001b[0m\u001b[0;34m:\u001b[0m\u001b[0;34m\u001b[0m\u001b[0m\n\u001b[0;32m--> 702\u001b[0;31m             raise ValueError('Cannot convert non-finite values (NA or inf) to '\n\u001b[0m\u001b[1;32m    703\u001b[0m                              'integer')\n\u001b[1;32m    704\u001b[0m \u001b[0;34m\u001b[0m\u001b[0m\n",
      "\u001b[0;31mValueError\u001b[0m: Cannot convert non-finite values (NA or inf) to integer"
     ]
    }
   ],
   "source": [
    "df[\"EPC price\"] = pd.to_numeric(df[\"EPC price\"],errors='coerce')"
   ]
  },
  {
   "cell_type": "code",
   "execution_count": 194,
   "metadata": {},
   "outputs": [],
   "source": [
    "df[\"EPC price\"] = df[\"EPC price\"].astype(float)"
   ]
  },
  {
   "cell_type": "code",
   "execution_count": 77,
   "metadata": {
    "scrolled": true
   },
   "outputs": [
    {
     "name": "stderr",
     "output_type": "stream",
     "text": [
      "/anaconda3/lib/python3.6/site-packages/matplotlib/axes/_axes.py:6499: MatplotlibDeprecationWarning: \n",
      "The 'normed' kwarg was deprecated in Matplotlib 2.1 and will be removed in 3.1. Use 'density' instead.\n",
      "  alternative=\"'density'\", removal=\"3.1\")\n"
     ]
    },
    {
     "data": {
      "text/plain": [
       "<matplotlib.axes._subplots.AxesSubplot at 0x1a2eaa2080>"
      ]
     },
     "execution_count": 77,
     "metadata": {},
     "output_type": "execute_result"
    },
    {
     "data": {
      "image/png": "[encoded data removed]",
      "text/plain": [
       "<Figure size 576x396 with 1 Axes>"
      ]
     },
     "metadata": {},
     "output_type": "display_data"
    }
   ],
   "source": [
    "%matplotlib inline\n",
    "import matplotlib.pyplot as plt\n",
    "import seaborn as sns\n",
    "plt.style.use('seaborn')\n",
    "from scipy import stats\n",
    "sns.distplot(df['EPC price'].dropna(),hist=True,bins=100,kde=True,fit=stats.gamma)"
   ]
  },
  {
   "cell_type": "code",
   "execution_count": 128,
   "metadata": {
    "scrolled": false
   },
   "outputs": [
    {
     "data": {
      "image/png": "[encoded data removed]",
      "text/plain": [
       "<Figure size 1152x1008 with 1 Axes>"
      ]
     },
     "metadata": {},
     "output_type": "display_data"
    }
   ],
   "source": [
    "dff2.plot.scatter(x='index', y='EPC price',figsize=(16,14));"
   ]
  },
  {
   "cell_type": "code",
   "execution_count": 73,
   "metadata": {},
   "outputs": [
    {
     "data": {
      "text/plain": [
       "8000.0"
      ]
     },
     "execution_count": 73,
     "metadata": {},
     "output_type": "execute_result"
    }
   ],
   "source": [
    "min(df[\"EPC price\"].dropna())"
   ]
  },
  {
   "cell_type": "code",
   "execution_count": 84,
   "metadata": {},
   "outputs": [],
   "source": [
    "dff = df[\"EPC price\"].dropna().value_counts().reset_index()"
   ]
  },
  {
   "cell_type": "code",
   "execution_count": 101,
   "metadata": {
    "scrolled": true
   },
   "outputs": [],
   "source": [
    "dff1 = dff[dff[\"EPC price\"]>1]"
   ]
  },
  {
   "cell_type": "code",
   "execution_count": 92,
   "metadata": {},
   "outputs": [
    {
     "data": {
      "text/plain": [
       "(1388, 2)"
      ]
     },
     "execution_count": 92,
     "metadata": {},
     "output_type": "execute_result"
    }
   ],
   "source": [
    "dff.shape"
   ]
  },
  {
   "cell_type": "code",
   "execution_count": 126,
   "metadata": {},
   "outputs": [],
   "source": [
    "dff2 = dff[(dff[\"EPC price\"]>2) & (dff[\"EPC price\"]<30) & (dff[\"index\"]>200)]"
   ]
  },
  {
   "cell_type": "code",
   "execution_count": 139,
   "metadata": {
    "scrolled": false
   },
   "outputs": [
    {
     "data": {
      "image/png": "[encoded data removed]",
      "text/plain": [
       "<Figure size 1152x1008 with 1 Axes>"
      ]
     },
     "metadata": {},
     "output_type": "display_data"
    }
   ],
   "source": [
    "dff3.plot.scatter(x='Capacity (m3/d)', y='EPC price',figsize=(16,14));"
   ]
  },
  {
   "cell_type": "code",
   "execution_count": 133,
   "metadata": {},
   "outputs": [],
   "source": [
    "df[\"Capacity (m3/d)\"] = df[\"Capacity (m3/d)\"].apply(lambda x: str(x).replace(\",\",\"\"))"
   ]
  },
  {
   "cell_type": "code",
   "execution_count": 134,
   "metadata": {},
   "outputs": [],
   "source": [
    "df[\"Capacity (m3/d)\"] = pd.to_numeric(df[\"Capacity (m3/d)\"],errors='coerce')"
   ]
  },
  {
   "cell_type": "code",
   "execution_count": 138,
   "metadata": {},
   "outputs": [],
   "source": [
    "dff3=df[df[\"EPC price\"]<2000000]"
   ]
  },
  {
   "cell_type": "code",
   "execution_count": 148,
   "metadata": {},
   "outputs": [
    {
     "data": {
      "text/html": [
       "<div>\n",
       "<style scoped>\n",
       "    .dataframe tbody tr th:only-of-type {\n",
       "        vertical-align: middle;\n",
       "    }\n",
       "\n",
       "    .dataframe tbody tr th {\n",
       "        vertical-align: top;\n",
       "    }\n",
       "\n",
       "    .dataframe thead th {\n",
       "        text-align: right;\n",
       "    }\n",
       "</style>\n",
       "<table border=\"1\" class=\"dataframe\">\n",
       "  <thead>\n",
       "    <tr style=\"text-align: right;\">\n",
       "      <th></th>\n",
       "      <th>index</th>\n",
       "      <th>EPC price</th>\n",
       "    </tr>\n",
       "  </thead>\n",
       "  <tbody>\n",
       "    <tr>\n",
       "      <th>0</th>\n",
       "      <td>count</td>\n",
       "      <td>9.869000e+03</td>\n",
       "    </tr>\n",
       "    <tr>\n",
       "      <th>1</th>\n",
       "      <td>mean</td>\n",
       "      <td>1.398680e+07</td>\n",
       "    </tr>\n",
       "    <tr>\n",
       "      <th>2</th>\n",
       "      <td>std</td>\n",
       "      <td>4.428672e+08</td>\n",
       "    </tr>\n",
       "    <tr>\n",
       "      <th>3</th>\n",
       "      <td>min</td>\n",
       "      <td>8.000000e+03</td>\n",
       "    </tr>\n",
       "    <tr>\n",
       "      <th>4</th>\n",
       "      <td>25%</td>\n",
       "      <td>2.790000e+05</td>\n",
       "    </tr>\n",
       "    <tr>\n",
       "      <th>5</th>\n",
       "      <td>50%</td>\n",
       "      <td>7.300000e+05</td>\n",
       "    </tr>\n",
       "    <tr>\n",
       "      <th>6</th>\n",
       "      <td>75%</td>\n",
       "      <td>2.410000e+06</td>\n",
       "    </tr>\n",
       "    <tr>\n",
       "      <th>7</th>\n",
       "      <td>max</td>\n",
       "      <td>4.350000e+10</td>\n",
       "    </tr>\n",
       "  </tbody>\n",
       "</table>\n",
       "</div>"
      ],
      "text/plain": [
       "   index     EPC price\n",
       "0  count  9.869000e+03\n",
       "1   mean  1.398680e+07\n",
       "2    std  4.428672e+08\n",
       "3    min  8.000000e+03\n",
       "4    25%  2.790000e+05\n",
       "5    50%  7.300000e+05\n",
       "6    75%  2.410000e+06\n",
       "7    max  4.350000e+10"
      ]
     },
     "execution_count": 148,
     "metadata": {},
     "output_type": "execute_result"
    }
   ],
   "source": [
    "df[\"EPC price\"].describe().reset_index()"
   ]
  },
  {
   "cell_type": "code",
   "execution_count": 193,
   "metadata": {},
   "outputs": [
    {
     "data": {
      "text/plain": [
       "0                NaN\n",
       "1                NaN\n",
       "2                NaN\n",
       "3                NaN\n",
       "4                NaN\n",
       "5                NaN\n",
       "6        443000000.0\n",
       "7                NaN\n",
       "8                NaN\n",
       "9        270000000.0\n",
       "10       148000000.0\n",
       "11       230000000.0\n",
       "12        98400000.0\n",
       "13       231000000.0\n",
       "14               NaN\n",
       "15       185000000.0\n",
       "16               NaN\n",
       "17        15000000.0\n",
       "18       110000000.0\n",
       "19       133000000.0\n",
       "20        55000000.0\n",
       "21       260000000.0\n",
       "22        33440000.0\n",
       "23        68900000.0\n",
       "24        35030000.0\n",
       "25               NaN\n",
       "26               NaN\n",
       "27        63390000.0\n",
       "28               NaN\n",
       "29               NaN\n",
       "            ...     \n",
       "19299            NaN\n",
       "19300       200000.0\n",
       "19301       200000.0\n",
       "19302       190000.0\n",
       "19303       190000.0\n",
       "19304       480000.0\n",
       "19305       160000.0\n",
       "19306       150000.0\n",
       "19307       140000.0\n",
       "19308       140000.0\n",
       "19309       340000.0\n",
       "19310       320000.0\n",
       "19311       320000.0\n",
       "19312       130000.0\n",
       "19313       100000.0\n",
       "19314       100000.0\n",
       "19315       100000.0\n",
       "19316       100000.0\n",
       "19317       110000.0\n",
       "19318       100000.0\n",
       "19319       100000.0\n",
       "19320       100000.0\n",
       "19321       100000.0\n",
       "19322       100000.0\n",
       "19323       100000.0\n",
       "19324            NaN\n",
       "19325            NaN\n",
       "19326            NaN\n",
       "19327            NaN\n",
       "19328            NaN\n",
       "Name: EPC price, Length: 19329, dtype: float64"
      ]
     },
     "execution_count": 193,
     "metadata": {},
     "output_type": "execute_result"
    }
   ],
   "source": [
    "df[\"EPC price\"]"
   ]
  },
  {
   "cell_type": "code",
   "execution_count": null,
   "metadata": {},
   "outputs": [],
   "source": []
  }
 ],
 "metadata": {
  "kernelspec": {
   "display_name": "Python 3",
   "language": "python",
   "name": "python3"
  },
  "language_info": {
   "codemirror_mode": {
    "name": "ipython",
    "version": 3
   },
   "file_extension": ".py",
   "mimetype": "text/x-python",
   "name": "python",
   "nbconvert_exporter": "python",
   "pygments_lexer": "ipython3",
   "version": "3.6.5"
  }
 },
 "nbformat": 4,
 "nbformat_minor": 2
}
